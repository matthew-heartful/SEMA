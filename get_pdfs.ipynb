{
 "cells": [
  {
   "cell_type": "code",
   "execution_count": 1,
   "metadata": {},
   "outputs": [],
   "source": [
    "import requests\n",
    "from bs4 import BeautifulSoup\n",
    "\n",
    "# Function to scrape content from a webpage\n",
    "def scrape_website(url):\n",
    "    try:\n",
    "        response = requests.get(url)\n",
    "        soup = BeautifulSoup(response.content, 'html.parser')\n",
    "        # Example: Extracting text content\n",
    "        text_content = soup.get_text()\n",
    "        return text_content\n",
    "    except Exception as e:\n",
    "        print(\"An error occurred while scraping the website:\", e)\n",
    "        return None"
   ]
  },
  {
   "cell_type": "code",
   "execution_count": 2,
   "metadata": {},
   "outputs": [
    {
     "name": "stdout",
     "output_type": "stream",
     "text": [
      "Defaulting to user installation because normal site-packages is not writeable\n",
      "Collecting pdfkit\n",
      "  Downloading pdfkit-1.0.0-py3-none-any.whl.metadata (9.3 kB)\n",
      "Downloading pdfkit-1.0.0-py3-none-any.whl (12 kB)\n",
      "Installing collected packages: pdfkit\n",
      "Successfully installed pdfkit-1.0.0\n",
      "\n",
      "\u001b[1m[\u001b[0m\u001b[34;49mnotice\u001b[0m\u001b[1;39;49m]\u001b[0m\u001b[39;49m A new release of pip is available: \u001b[0m\u001b[31;49m23.3.2\u001b[0m\u001b[39;49m -> \u001b[0m\u001b[32;49m24.0\u001b[0m\n",
      "\u001b[1m[\u001b[0m\u001b[34;49mnotice\u001b[0m\u001b[1;39;49m]\u001b[0m\u001b[39;49m To update, run: \u001b[0m\u001b[32;49mpip install --upgrade pip\u001b[0m\n"
     ]
    }
   ],
   "source": [
    "!pip install pdfkit"
   ]
  },
  {
   "cell_type": "code",
   "execution_count": 3,
   "metadata": {},
   "outputs": [
    {
     "name": "stdout",
     "output_type": "stream",
     "text": [
      "An error occurred while saving as PDF: No wkhtmltopdf executable found: \"/path/to/wkhtmltopdf\"\n",
      "If this file exists please check that this process can read it or you can pass path to it manually in method call, check README. Otherwise please install wkhtmltopdf - https://github.com/JazzCore/python-pdfkit/wiki/Installing-wkhtmltopdf\n"
     ]
    }
   ],
   "source": [
    "import pdfkit\n",
    "\n",
    "# Function to save webpage content as PDF\n",
    "def save_as_pdf(content, output_path):\n",
    "    try:\n",
    "        # Configuration for pdfkit (path to wkhtmltopdf executable)\n",
    "        config = pdfkit.configuration(wkhtmltopdf='/path/to/wkhtmltopdf')\n",
    "\n",
    "        # Convert content to PDF\n",
    "        pdfkit.from_string(content, output_path, configuration=config)\n",
    "        print(\"PDF saved successfully!\")\n",
    "    except Exception as e:\n",
    "        print(\"An error occurred while saving as PDF:\", e)\n",
    "\n",
    "# Example usage\n",
    "website_url = 'https://www.pinecone.io/'\n",
    "content = scrape_website(website_url)\n",
    "\n",
    "if content:\n",
    "    output_file = 'example.pdf'\n",
    "    save_as_pdf(content, output_file)\n",
    "else:\n",
    "    print(\"Could not retrieve content from the website.\")"
   ]
  }
 ],
 "metadata": {
  "kernelspec": {
   "display_name": "Python (pyenv 3.10.3)",
   "language": "python",
   "name": "pyenv-3.10.3"
  },
  "language_info": {
   "codemirror_mode": {
    "name": "ipython",
    "version": 3
   },
   "file_extension": ".py",
   "mimetype": "text/x-python",
   "name": "python",
   "nbconvert_exporter": "python",
   "pygments_lexer": "ipython3",
   "version": "3.9.13"
  }
 },
 "nbformat": 4,
 "nbformat_minor": 2
}
